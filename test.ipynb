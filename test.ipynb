{
 "cells": [
  {
   "cell_type": "code",
   "execution_count": 1,
   "metadata": {
    "collapsed": false,
    "pycharm": {
     "name": "#%%\n"
    }
   },
   "outputs": [],
   "source": [
    "import numpy as np\n",
    "import json"
   ]
  },
  {
   "cell_type": "code",
   "execution_count": 2,
   "metadata": {
    "collapsed": false,
    "pycharm": {
     "name": "#%%\n"
    }
   },
   "outputs": [],
   "source": [
    "LIST_SUBJECT: list = []\n",
    "N_LESSON = 42\n",
    "LIST_CLASSES: list = []\n",
    "LIST_TEACHER: list = []\n",
    "N_POPULATION = 100\n",
    "MUTATION_RATE = 0.3"
   ]
  },
  {
   "cell_type": "code",
   "execution_count": 3,
   "metadata": {
    "collapsed": false,
    "pycharm": {
     "name": "#%%\n"
    }
   },
   "outputs": [],
   "source": [
    "#load sample data\n",
    "inp_file = open('input/inp01.json', encoding='UTF-8')\n",
    "sample_data = json.load(inp_file)\n",
    "LIST_CLASSES = sample_data['Classes']\n",
    "LIST_SUBJECT = sample_data['Subjects']\n",
    "LIST_TEACHER = sample_data['Teachers']"
   ]
  },
  {
   "cell_type": "code",
   "execution_count": null,
   "outputs": [],
   "source": [
    "# Step 1: Initial Population\n",
    "population_set = []\n",
    "def generate_individual():\n",
    "    individual = []\n",
    "    for i in range(N_LESSON*len(LIST_CLASSES)):\n",
    "        temp =(np.random.randint(1, N_LESSON + 1),\n",
    "                LIST_CLASSES[np.random.randint(0, len(LIST_CLASSES))], LIST_TEACHER[np.random.randint(0, len(LIST_TEACHER))])\n",
    "        individual.append(temp)\n",
    "    return individual\n",
    "def generate_population(populations):\n",
    "    for i in range(N_POPULATION):\n",
    "        populations.append(generate_individual())\n",
    "    return populations\n",
    "population_set = generate_population(population_set)"
   ],
   "metadata": {
    "collapsed": false,
    "pycharm": {
     "name": "#%%\n"
    }
   }
  },
  {
   "cell_type": "code",
   "execution_count": null,
   "outputs": [],
   "source": [
    "# Step 2: build fitness function\n",
    "def calculate_individual_score(individual):\n",
    "    score = 0\n",
    "    for i in range(len(individual)):\n",
    "        if individual[i][1][0] not in individual[i][2]['listGrade']:\n",
    "            score -= 1\n",
    "        for j in range(len(individual)):\n",
    "            if individual[i][0] == individual[j][0] and individual[i][2] == individual[j][2]:\n",
    "                score -= 1\n",
    "            if individual[i][1] == individual[j][1] and individual[i][2]['subject'] == individual[j][2]['subject']:\n",
    "                score -= 1\n",
    "            if  individual[j][0] == individual[i][0] + 1 and individual[i][0] %7 != 5 and individual[i][0] %7 != 0 and individual[i][1] == individual[j][1] and individual[i][2] == individual[j][2] and individual[i][1][0] in individual[i][2]['listGrade']:\n",
    "                score += 1\n",
    "    return score\n",
    "def cal_fitness_population():\n",
    "    population_score = []\n",
    "    for i in range(N_POPULATION):\n",
    "        score = calculate_individual_score(population_set[i])\n",
    "        population_score.append({'individual': population_set[i], 'score': score})\n",
    "    return population_score\n",
    "\n",
    "population_fitness_score = cal_fitness_population()\n",
    "population_fitness_score\n"
   ],
   "metadata": {
    "collapsed": false,
    "pycharm": {
     "name": "#%%\n"
    }
   }
  },
  {
   "cell_type": "code",
   "execution_count": null,
   "outputs": [],
   "source": [
    "from operator import itemgetter\n",
    "# Step 3: Progenitors selection\n",
    "def progenitor_selection(fitness_score):\n",
    "    sort_fitness_score = sorted(fitness_score, key=itemgetter('score'), reverse=True)\n",
    "    progenitors = []\n",
    "    for i in range(20):\n",
    "        progenitors.append(sort_fitness_score[i]['individual'])\n",
    "    return progenitors\n",
    "\n",
    "progenitor_set = progenitor_selection(population_fitness_score)\n",
    "len(progenitor_set[0])"
   ],
   "metadata": {
    "collapsed": false,
    "pycharm": {
     "name": "#%%\n"
    }
   }
  },
  {
   "cell_type": "code",
   "execution_count": null,
   "outputs": [],
   "source": [
    "# Step 4: Mating\n",
    "def mate_progenitor(prog_a, prog_b):\n",
    "    offspring = prog_a[100:126]\n",
    "    return np.concatenate((prog_b[0:100], offspring, prog_b[126:672]))\n",
    "\n",
    "def mate_population(progenitor_list):\n",
    "    new_population_set = []\n",
    "    for i in range(len(progenitor_list) - 1):\n",
    "        new_population_set.append(mate_progenitor(progenitor_list[i], progenitor_list[i+1]))\n",
    "    return new_population_set\n",
    "\n",
    "new_population = mate_population(progenitor_set)\n",
    "len(new_population)\n",
    "        \n",
    "    "
   ],
   "metadata": {
    "collapsed": false,
    "pycharm": {
     "name": "#%%\n"
    }
   }
  },
  {
   "cell_type": "code",
   "execution_count": null,
   "outputs": [],
   "source": [],
   "metadata": {
    "collapsed": false,
    "pycharm": {
     "name": "#%%\n"
    }
   }
  }
 ],
 "metadata": {
  "kernelspec": {
   "display_name": "Python 3.10.2 64-bit",
   "language": "python",
   "name": "python3"
  },
  "language_info": {
   "codemirror_mode": {
    "name": "ipython",
    "version": 3
   },
   "file_extension": ".py",
   "mimetype": "text/x-python",
   "name": "python",
   "nbconvert_exporter": "python",
   "pygments_lexer": "ipython3",
   "version": "3.10.2"
  },
  "vscode": {
   "interpreter": {
    "hash": "369f2c481f4da34e4445cda3fffd2e751bd1c4d706f27375911949ba6bb62e1c"
   }
  }
 },
 "nbformat": 4,
 "nbformat_minor": 0
}